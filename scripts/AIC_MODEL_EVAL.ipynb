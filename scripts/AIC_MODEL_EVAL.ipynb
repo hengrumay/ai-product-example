{
 "cells": [
  {
   "cell_type": "markdown",
   "metadata": {
    "application/vnd.databricks.v1+cell": {
     "cellMetadata": {},
     "inputWidgets": {},
     "nuid": "c69aab94-a8cf-4c53-b4c0-effaa985c367",
     "showTitle": false,
     "title": ""
    }
   },
   "source": [
    "# AI Curriculum Model Evaluation\n",
    "\n",
    "In this section you will read in and analyze a diabeties readmission dataset. First we'll do some basic analysis, then we'll move on to doing more advanced analysis. We plan to follow all the steps we learned so far in this course and then put this model into production"
   ]
  },
  {
   "cell_type": "markdown",
   "metadata": {
    "application/vnd.databricks.v1+cell": {
     "cellMetadata": {},
     "inputWidgets": {},
     "nuid": "ab58f724-c994-4d9e-9104-f54411e2dce0",
     "showTitle": false,
     "title": ""
    }
   },
   "source": [
    "## Your Data\n",
    "Fill out the following information: \n",
    "\n",
    "*First Name:*   \n",
    "*Last Name:*   \n",
    "*E-mail:*"
   ]
  },
  {
   "cell_type": "markdown",
   "metadata": {
    "application/vnd.databricks.v1+cell": {
     "cellMetadata": {},
     "inputWidgets": {},
     "nuid": "59c78641-7301-4308-b734-4c9d723f33f3",
     "showTitle": false,
     "title": ""
    }
   },
   "source": [
    "## About the dataset\n",
    "This dataset is 10-years (from 1999 to 2008) of clinical care at 130 US hospitals and integrated delivery networks.\n",
    "It contains 101,766 instances (patients) that are classified into three classes: no readmission, readmission in less than 30 days, and readmission in more than 30 day. Information was extracted from the database for encounters that satisfied the following criteria.\n",
    "\n",
    "1. It is an inpatient encounter (a hospital admission).\n",
    "2. It is a diabetic encounter, that is, one during which any kind of diabetes was entered to the system as a diagnosis.\n",
    "3. The length of stay was at least 1 day and at most 14 days.\n",
    "4. Laboratory tests were performed during the encounter.\n",
    "5. Medications were administered during the encounter.\n",
    "\n",
    "The data contains such attributes as patient number, race, gender, age, admission type, time in hospital, medical specialty of admitting physician, number of lab test performed, HbA1c test result, diagnosis, number of medication, diabetic medications, number of outpatient, inpatient, and emergency visits in the year before the hospitalization.\n",
    "\n",
    "Can we forecast whether a diabetes patient will be readmitted in the future or not?"
   ]
  },
  {
   "cell_type": "markdown",
   "metadata": {
    "application/vnd.databricks.v1+cell": {
     "cellMetadata": {},
     "inputWidgets": {},
     "nuid": "69706660-f8a9-4295-87bd-86e84829e627",
     "showTitle": false,
     "title": ""
    }
   },
   "source": [
    "## Data Set Description\n",
    "**Encounter ID:** Unique identifier of an encounter</br>\n",
    "**Patient number:** Unique identifier of a patient</br>\n",
    "**Race Values:** Caucasian, Asian, African American, Hispanic, and other</br>\n",
    "**Gender Values:** male, female, and unknown/invalid</br>\n",
    "**Age:** Grouped in 10-year intervals: 0, 10), 10, 20), …, 90, 100)</br>\n",
    "**Weight:** Weight in pounds</br>\n",
    "**Admission type:** Integer identifier corresponding to 9 distinct values, for example, emergency, urgent, elective, newborn, and not available</br>\n",
    "**Discharge:** disposition Integer identifier corresponding to 29 distinct values, for example, discharged to home, expired, and not available</br>\n",
    "**Admission source:** Integer identifier corresponding to 21 distinct values, for example, physician referral, emergency room, and transfer from a hospital</br>\n",
    "**Time in hospital:** Integer number of days between admission and discharge</br>\n",
    "**Payer code Integer:** identifier corresponding to 23 distinct values, for example, Blue Cross/Blue Shield, Medicare, and self-pay Medical</br>\n",
    "**Medical specialty:** Integer identifier of a specialty of the admitting physician, corresponding to 84 distinct values, for example, cardiology, internal medicine, family/general practice, and surgeon</br>\n",
    "**Number of lab procedures:** Number of lab tests performed during the encounter</br>\n",
    "**Number of procedures:** Numeric Number of procedures (other than lab tests) performed during the encounter</br>\n",
    "**Number of medications:** Number of distinct generic names administered during the encounter</br>\n",
    "**Number of outpatient:** visits Number of outpatient visits of the patient in the year preceding the encounter</br>\n",
    "**Number of emergency:** visits Number of emergency visits of the patient in the year preceding the encounter</br>\n",
    "**Number of inpatient:** visits Number of inpatient visits of the patient in the year preceding the encounter</br>\n",
    "**Diagnosis 1:** The primary diagnosis (coded as first three digits of ICD9); 848 distinct values</br>\n",
    "**Diagnosis 2:** Secondary diagnosis (coded as first three digits of ICD9); 923 distinct values</br>\n",
    "**Diagnosis 3:** Additional secondary diagnosis (coded as first three digits of ICD9); 954 distinct values</br>\n",
    "**Number of diagnoses:** Number of diagnoses entered to the system 0%</br>\n",
    "**Glucose serum test result:** Indicates the range of the result or if the test was not taken. Values: “>200,” “>300,” “normal,” and “none” if not measured</br>\n",
    "**A1c test result:** Indicates the range of the result or if the test was not taken. Values: “>8” if the result was greater than 8%, “>7” if the result was greater than 7% but less than 8%, “normal” if the result was less than 7%, and “none” if not measured.</br>\n",
    "**Change of medications:** Indicates if there was a change in diabetic medications (either dosage or generic name). Values: “change” and “no change”</br>\n",
    "**Diabetes medications:** Indicates if there was any diabetic medication prescribed. Values: “yes” and “no”</br>\n",
    "**24 features for medications For the generic names:** metformin, repaglinide, nateglinide, chlorpropamide, glimepiride, acetohexamide, glipizide, glyburide, tolbutamide, pioglitazone, rosiglitazone, acarbose, miglitol, troglitazone, tolazamide, examide, sitagliptin, insulin, glyburide-metformin, glipizide-metformin, glimepiride- pioglitazone, metformin-rosiglitazone, and metformin- pioglitazone, the feature indicates whether the drug was prescribed or there was a change in the dosage. Values: “up” if the dosage was increased during the encounter, “down” if the dosage was decreased, “steady” if the dosage did not change, and “no” if the drug was not prescribed</br>\n",
    "**Readmitted Days to inpatient readmission Values:** “<30” if the patient was readmitted in less than 30 days, “>30” if the patient was readmitted in more than 30 days, and “No” for no record of readmission"
   ]
  },
  {
   "cell_type": "markdown",
   "metadata": {
    "application/vnd.databricks.v1+cell": {
     "cellMetadata": {},
     "inputWidgets": {},
     "nuid": "5b5ede95-92c1-4447-846b-62cafad8fb22",
     "showTitle": false,
     "title": ""
    }
   },
   "source": [
    "## References\n",
    "\n",
    "1. [Beata Strack, Jonathan P. DeShazo, Chris Gennings, Juan L. Olmo, Sebastian Ventura, Krzysztof J. Cios, and John N. Clore, “Impact of HbA1c Measurement on Hospital Readmission Rates: Analysis of 70,000 Clinical Database Patient Records,” BioMed Research International, vol. 2014, Article ID 781670, 11 pages, 2014](https://www.hindawi.com/journals/bmri/2014/781670/).\n",
    "    \n",
    "2. [Diabetes 130-US hospitals for years 1999-2008 Data Set](https://archive.ics.uci.edu/ml/datasets/diabetes+130-us+hospitals+for+years+1999-2008) - UCI Machine Learning Repository\n",
    "\n",
    "3. [List of features and their descriptions in the initial dataset](https://www.hindawi.com/journals/bmri/2014/781670/tab1/)"
   ]
  },
  {
   "cell_type": "code",
   "execution_count": 0,
   "metadata": {
    "application/vnd.databricks.v1+cell": {
     "cellMetadata": {},
     "inputWidgets": {},
     "nuid": "4fe8d4a2-3ea1-41b0-aa8f-ab9c7ca46603",
     "showTitle": false,
     "title": ""
    }
   },
   "outputs": [],
   "source": [
    "# Import and Setup\n",
    "# It is best practice to import all the libraires you think you need at one place in the begining of your code to keep track of it\n",
    "\n",
    "# Fill your code here\n",
    "\n",
    "import pandas as pd\n",
    "\n",
    "\n",
    "\n",
    "\n"
   ]
  },
  {
   "cell_type": "markdown",
   "metadata": {
    "application/vnd.databricks.v1+cell": {
     "cellMetadata": {},
     "inputWidgets": {},
     "nuid": "61dcc548-321d-4e8b-950f-b2df454d1a59",
     "showTitle": false,
     "title": ""
    }
   },
   "source": [
    "### Task 1: Import the data \n",
    "Use the pandas.read_csv() function to import the dataset. The data is contained in one file called diabetic_data, you can clone it from the git repository provided for the course or from the source itself. This pandas dataframe will be used for data exploration."
   ]
  },
  {
   "cell_type": "code",
   "execution_count": 0,
   "metadata": {
    "application/vnd.databricks.v1+cell": {
     "cellMetadata": {},
     "inputWidgets": {},
     "nuid": "0da59cc2-4623-4ee0-a174-e21c67a77828",
     "showTitle": false,
     "title": ""
    }
   },
   "outputs": [],
   "source": [
    "# Enter your code here\n",
    "\n",
    "\n",
    "\n",
    "\n"
   ]
  },
  {
   "cell_type": "markdown",
   "metadata": {
    "application/vnd.databricks.v1+cell": {
     "cellMetadata": {},
     "inputWidgets": {},
     "nuid": "2bccb6bb-a2dc-4b91-99c2-84d59d76a665",
     "showTitle": false,
     "title": ""
    }
   },
   "source": [
    "### Task 2: Clean your dataset\n",
    "Data wrangling is the process of taking raw messy data and transforming/cleaning/mapping it to a tidy format that is acceptable by machine learning algorithms.\n",
    "1. Look at your dataset, how many columns have missing values (missing values can either be '?' ,Nan,' '  etc.). Check the datatypes and convert any numbers that were read as strings to numerical values. (Hint: You can use [str.replace()](http://pandas.pydata.org/pandas-docs/stable/generated/pandas.Series.str.replace.html) to work with strings.)\n",
    "2. What proportion of the Values are missing, can it be replaced by some data wrangling methods or should we just delete that column?\n",
    "3. Do all the columns in right data type? (Hint: You can check it with 'dataset.dtypes')\n",
    "4. \"readmitted\" will be your target variable we are trying to predict."
   ]
  },
  {
   "cell_type": "code",
   "execution_count": 0,
   "metadata": {
    "application/vnd.databricks.v1+cell": {
     "cellMetadata": {},
     "inputWidgets": {},
     "nuid": "339e7b33-efca-4d6d-b10b-b790d20b4561",
     "showTitle": false,
     "title": ""
    }
   },
   "outputs": [],
   "source": [
    "# Enter your code here\n",
    "\n",
    "\n",
    "\n",
    "\n"
   ]
  },
  {
   "cell_type": "markdown",
   "metadata": {
    "application/vnd.databricks.v1+cell": {
     "cellMetadata": {},
     "inputWidgets": {},
     "nuid": "bdcdfe82-9372-4ac4-9c9e-4dae326a3c41",
     "showTitle": false,
     "title": ""
    }
   },
   "source": [
    "Please tell us in few sentence what did you learn from this task? What was the easiest and hardest part of this task? </br>\n",
    "**Your interpertation :**"
   ]
  },
  {
   "cell_type": "markdown",
   "metadata": {
    "application/vnd.databricks.v1+cell": {
     "cellMetadata": {},
     "inputWidgets": {},
     "nuid": "f8145ee7-cd07-4417-8679-93aa2b8df1ec",
     "showTitle": false,
     "title": ""
    }
   },
   "source": [
    "### Task 3: Exploratory data analysis \n",
    "\n",
    "1. Explore the dataset. Write a short description of the dataset describing the number of items, the number of variables and check to see if the values are reasonable. \n",
    "+ How many variables are categorical variables and how many are numerical? Do we need to encode the variables?\n",
    "+ You can compute the correlation matrix and use a heat map to visualize the correlation coefficients\n",
    "+ What are the proportions of various Race/Ethnic, age and gender groups in the dataset?\n",
    "+ Check the distribution of the variables,what can we interpret from them?\n",
    "+ Is there data Imbalance?\n",
    "+ If possible create a visualization for your understanding. You can click [here](https://www.data-to-viz.com/#violin) for various types of visualization examples"
   ]
  },
  {
   "cell_type": "code",
   "execution_count": 0,
   "metadata": {
    "application/vnd.databricks.v1+cell": {
     "cellMetadata": {},
     "inputWidgets": {},
     "nuid": "1870a58a-b249-46d9-b493-c34bbe56e0cd",
     "showTitle": false,
     "title": ""
    }
   },
   "outputs": [],
   "source": [
    "# Enter your code here\n",
    "\n",
    "\n",
    "\n"
   ]
  },
  {
   "cell_type": "markdown",
   "metadata": {
    "application/vnd.databricks.v1+cell": {
     "cellMetadata": {},
     "inputWidgets": {},
     "nuid": "4e760bc3-c74a-4e7a-bd76-04f9b6540008",
     "showTitle": false,
     "title": ""
    }
   },
   "source": [
    "Please tell us in few sentence what did you learn from this task? What was the easiest and hardest part of this task? </br>\n",
    "**Your interpertation :**"
   ]
  },
  {
   "cell_type": "markdown",
   "metadata": {
    "application/vnd.databricks.v1+cell": {
     "cellMetadata": {},
     "inputWidgets": {},
     "nuid": "c4301707-f3ae-4fb0-aba8-9b5fdad7b9cc",
     "showTitle": false,
     "title": ""
    }
   },
   "source": [
    "### Task 4: Feature Engineering \n",
    "Feature engineering is the process of transforming raw data into features that better represent the underlying problem to the predictive models,resulting in improved model accuracy on unseen data\n",
    "\n",
    "1. Take a look at the dataset, can we replace some missing values with something else which would be meaningful? (You can consult with subject matter expert)\n",
    "+ Do we need to scale or normailze some features?\n",
    "+ Can we create new features from existing information available in the data using feature crossing( combining 2 or more numerical features using an arithmetic operator)?\n",
    "+ There are 3 diagnostics, with more than 700 possible values. can we make some order and normalize those diagnostics into categories?\n",
    "+ There are too many medications that are taken by the patients. What can we interpret from it? Can perform some feature engineering their?\n",
    "+ Explore other features which we can create that can be helpful for model"
   ]
  },
  {
   "cell_type": "code",
   "execution_count": 0,
   "metadata": {
    "application/vnd.databricks.v1+cell": {
     "cellMetadata": {},
     "inputWidgets": {},
     "nuid": "082af8db-9b63-4459-8eaa-9d9863cb3c4e",
     "showTitle": false,
     "title": ""
    }
   },
   "outputs": [],
   "source": [
    "# Enter your code here\n",
    "\n",
    "\n",
    "\n",
    "\n",
    "\n"
   ]
  },
  {
   "cell_type": "markdown",
   "metadata": {
    "application/vnd.databricks.v1+cell": {
     "cellMetadata": {},
     "inputWidgets": {},
     "nuid": "99692e4a-0762-41da-98aa-2a5ea16738bc",
     "showTitle": false,
     "title": ""
    }
   },
   "source": [
    "Please tell us in few sentence what did you learn from this task? What was the easiest and hardest part of this task? </br>\n",
    "**Your interpertation :**"
   ]
  },
  {
   "cell_type": "markdown",
   "metadata": {
    "application/vnd.databricks.v1+cell": {
     "cellMetadata": {},
     "inputWidgets": {},
     "nuid": "8046ef4c-6625-4e1f-87eb-89e7d87e6c0c",
     "showTitle": false,
     "title": ""
    }
   },
   "source": [
    "### Task 5: Create Baseline model\n",
    " A baseline Is a model that is both simple to set up and has a reasonable chance of providing decent results. Experimenting with them is\n",
    "usually quick and low cost, since implementations are widely available in popular packages\n",
    "\n",
    "1. Choose a baseline which you think might be best with the data analysis we performed \n",
    "+ Think on which performace metrices to choose based on the problem statement\n",
    "+ Split dataset into train and test\n",
    "+ What is the performance of the model? Can we improve on it?\n",
    "+ Perform feature importance, does it make sense?\n",
    "+ Perform Hyperparameter tuning. Did your model performance get better? State which are the best set for Hyperparameters?"
   ]
  },
  {
   "cell_type": "code",
   "execution_count": 0,
   "metadata": {
    "application/vnd.databricks.v1+cell": {
     "cellMetadata": {},
     "inputWidgets": {},
     "nuid": "46bdbad2-88c7-44ed-b41a-2f9d6c5c58ef",
     "showTitle": false,
     "title": ""
    }
   },
   "outputs": [],
   "source": [
    "# Enter your code here\n",
    "\n",
    "\n",
    "\n",
    "\n",
    "\n"
   ]
  },
  {
   "cell_type": "markdown",
   "metadata": {
    "application/vnd.databricks.v1+cell": {
     "cellMetadata": {},
     "inputWidgets": {},
     "nuid": "08eb82f6-76a5-4289-8e8c-e48bd45a8ad6",
     "showTitle": false,
     "title": ""
    }
   },
   "source": [
    "Please tell us in few sentence what did you learn from this task? What was the easiest and hardest part of this task? </br>\n",
    "**Your interpertation :**"
   ]
  },
  {
   "cell_type": "markdown",
   "metadata": {
    "application/vnd.databricks.v1+cell": {
     "cellMetadata": {},
     "inputWidgets": {},
     "nuid": "148569b4-47bb-4085-bba9-5a4067096b0d",
     "showTitle": false,
     "title": ""
    }
   },
   "source": [
    "### Task 6: Model Development\n",
    "\n",
    "A machine learning model is the product of training a machine learning algorithm with training data.\n",
    "\n",
    "1. Do baseline model satisfy our performance criteria?\n",
    "2. What can we interpret for our basline model and feature importance?\n",
    "3. What other models can we use? Can we create more new features based on the information we gathered?\n",
    "4. Split the dataset into train and test, use same performace matrix as the baseline model\n",
    "5. Perform cross validation\n",
    "6. What is the final model performance?"
   ]
  },
  {
   "cell_type": "code",
   "execution_count": 0,
   "metadata": {
    "application/vnd.databricks.v1+cell": {
     "cellMetadata": {},
     "inputWidgets": {},
     "nuid": "16ad6d89-9975-48e9-a4b6-fd6e657341bb",
     "showTitle": false,
     "title": ""
    }
   },
   "outputs": [],
   "source": [
    "# Enter your code here\n",
    "\n",
    "\n",
    "\n",
    "\n",
    "\n"
   ]
  },
  {
   "cell_type": "markdown",
   "metadata": {
    "application/vnd.databricks.v1+cell": {
     "cellMetadata": {},
     "inputWidgets": {},
     "nuid": "9083cf4d-68a5-4c78-a51f-99f856c3eb8c",
     "showTitle": false,
     "title": ""
    }
   },
   "source": [
    "Please tell us in few sentence what did you learn from this task? What was the easiest and hardest part of this task? </br>\n",
    "**Your interpertation :**"
   ]
  },
  {
   "cell_type": "markdown",
   "metadata": {
    "application/vnd.databricks.v1+cell": {
     "cellMetadata": {},
     "inputWidgets": {},
     "nuid": "d4941c99-2900-44f8-898d-1068bbb69b21",
     "showTitle": false,
     "title": ""
    }
   },
   "source": [
    "## Task 7: Output and save your model\n",
    "\n",
    "1. Create a Pickel file to save your model\n",
    "2. Reload the saved Pickel file to predict on the test set provided"
   ]
  },
  {
   "cell_type": "code",
   "execution_count": 0,
   "metadata": {
    "application/vnd.databricks.v1+cell": {
     "cellMetadata": {},
     "inputWidgets": {},
     "nuid": "7dbea256-57ae-464d-b24e-1f6ddc922702",
     "showTitle": false,
     "title": ""
    }
   },
   "outputs": [],
   "source": [
    "# Enter your code here\n",
    "\n",
    "\n",
    "\n"
   ]
  }
 ],
 "metadata": {
  "application/vnd.databricks.v1+notebook": {
   "dashboards": [],
   "language": "python",
   "notebookMetadata": {},
   "notebookName": "AIC_MODEL_EVAL",
   "widgets": {}
  },
  "kernelspec": {
   "display_name": "Python 3",
   "language": "python",
   "name": "python3"
  },
  "language_info": {
   "codemirror_mode": {
    "name": "ipython",
    "version": 3
   },
   "file_extension": ".py",
   "mimetype": "text/x-python",
   "name": "python",
   "nbconvert_exporter": "python",
   "pygments_lexer": "ipython3",
   "version": "3.7.3"
  }
 },
 "nbformat": 4,
 "nbformat_minor": 0
}
