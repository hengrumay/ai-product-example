{
 "cells": [
  {
   "cell_type": "code",
   "execution_count": 0,
   "metadata": {
    "application/vnd.databricks.v1+cell": {
     "cellMetadata": {},
     "inputWidgets": {},
     "nuid": "371acb51-9aee-47f1-b592-322dcb0383e7",
     "showTitle": false,
     "title": ""
    }
   },
   "outputs": [],
   "source": [
    "import os\n",
    "import pandas as pd\n",
    "import lazypredict\n",
    "from sklearn import metrics\n",
    "from sklearn.metrics import accuracy_score\n",
    "from sklearn.model_selection import train_test_split\n",
    "from lazypredict.Supervised import LazyClassifier\n",
    "from sklearn.preprocessing import LabelEncoder\n",
    "import numpy as np\n",
    "import matplotlib.pyplot as plt"
   ]
  },
  {
   "cell_type": "code",
   "execution_count": 0,
   "metadata": {
    "application/vnd.databricks.v1+cell": {
     "cellMetadata": {},
     "inputWidgets": {},
     "nuid": "d122581b-9276-4791-ac65-2c3cc53a1361",
     "showTitle": false,
     "title": ""
    }
   },
   "outputs": [],
   "source": [
    "data = pd.read_csv('diabetic_data.csv')"
   ]
  },
  {
   "cell_type": "code",
   "execution_count": 0,
   "metadata": {
    "application/vnd.databricks.v1+cell": {
     "cellMetadata": {},
     "inputWidgets": {},
     "nuid": "df9394c6-f4e3-45dd-aec6-cd68071e0ec4",
     "showTitle": false,
     "title": ""
    }
   },
   "outputs": [],
   "source": [
    "data.describe()"
   ]
  },
  {
   "cell_type": "code",
   "execution_count": 0,
   "metadata": {
    "application/vnd.databricks.v1+cell": {
     "cellMetadata": {},
     "inputWidgets": {},
     "nuid": "500bb33e-69ae-4ec3-bf7d-83b444eeff43",
     "showTitle": false,
     "title": ""
    }
   },
   "outputs": [],
   "source": [
    "data.head()"
   ]
  },
  {
   "cell_type": "code",
   "execution_count": 0,
   "metadata": {
    "application/vnd.databricks.v1+cell": {
     "cellMetadata": {},
     "inputWidgets": {},
     "nuid": "96ac9ddb-2e5f-4058-bc82-02c44bd81526",
     "showTitle": false,
     "title": ""
    }
   },
   "outputs": [],
   "source": [
    "data.drop(columns=['encounter_id', 'patient_nbr','weight','payer_code'],inplace=True)"
   ]
  },
  {
   "cell_type": "code",
   "execution_count": 0,
   "metadata": {
    "application/vnd.databricks.v1+cell": {
     "cellMetadata": {},
     "inputWidgets": {},
     "nuid": "460d2f73-dd66-435b-9eb3-3afdd51c8e24",
     "showTitle": false,
     "title": ""
    }
   },
   "outputs": [],
   "source": [
    "data.dropna(subset=['readmitted'],inplace=True)"
   ]
  },
  {
   "cell_type": "code",
   "execution_count": 0,
   "metadata": {
    "application/vnd.databricks.v1+cell": {
     "cellMetadata": {},
     "inputWidgets": {},
     "nuid": "a085df37-e301-49e8-a4b2-225b4ab77c8e",
     "showTitle": false,
     "title": ""
    }
   },
   "outputs": [],
   "source": [
    "data['readmitted'][data['readmitted']=='NO'] = 0 #class 0 for NO readmission\n",
    "data['readmitted'][data['readmitted']=='<30'] = 1 #class 1 for <30 readmission\n",
    "data['readmitted'][data['readmitted']=='>30'] = 2 #class 2 for >30 readmission\n"
   ]
  },
  {
   "cell_type": "code",
   "execution_count": 0,
   "metadata": {
    "application/vnd.databricks.v1+cell": {
     "cellMetadata": {},
     "inputWidgets": {},
     "nuid": "64730f64-3c40-47df-a378-5b4242898c92",
     "showTitle": false,
     "title": ""
    }
   },
   "outputs": [],
   "source": [
    "data.readmitted.value_counts()"
   ]
  },
  {
   "cell_type": "code",
   "execution_count": 0,
   "metadata": {
    "application/vnd.databricks.v1+cell": {
     "cellMetadata": {},
     "inputWidgets": {},
     "nuid": "f3c8c43f-971e-4127-8299-7bb29247f67a",
     "showTitle": false,
     "title": ""
    }
   },
   "outputs": [],
   "source": [
    "data.head()"
   ]
  },
  {
   "cell_type": "code",
   "execution_count": 0,
   "metadata": {
    "application/vnd.databricks.v1+cell": {
     "cellMetadata": {},
     "inputWidgets": {},
     "nuid": "733f8717-2b7e-4c6b-874c-69c6d241128b",
     "showTitle": false,
     "title": ""
    }
   },
   "outputs": [],
   "source": [
    "data.columns"
   ]
  },
  {
   "cell_type": "code",
   "execution_count": 0,
   "metadata": {
    "application/vnd.databricks.v1+cell": {
     "cellMetadata": {},
     "inputWidgets": {},
     "nuid": "6bf6ebe6-90be-4134-bf45-4e522f468364",
     "showTitle": false,
     "title": ""
    }
   },
   "outputs": [],
   "source": [
    "enc_list= ['gender','age','race','medical_specialty','max_glu_serum', 'A1Cresult', 'metformin', 'repaglinide', 'nateglinide',\n",
    "       'chlorpropamide', 'glimepiride', 'acetohexamide', 'glipizide',\n",
    "       'glyburide', 'tolbutamide', 'pioglitazone', 'rosiglitazone', 'acarbose',\n",
    "       'miglitol', 'troglitazone', 'tolazamide', 'examide', 'citoglipton',\n",
    "       'insulin', 'glyburide-metformin', 'glipizide-metformin',\n",
    "       'glimepiride-pioglitazone', 'metformin-rosiglitazone',\n",
    "       'metformin-pioglitazone', 'change', 'diabetesMed']\n",
    "for i in enc_list:\n",
    "    labelencoder = LabelEncoder()\n",
    "    # Assigning numerical values and storing in another column\n",
    "    data[i] = labelencoder.fit_transform(data[i])\n"
   ]
  },
  {
   "cell_type": "code",
   "execution_count": 0,
   "metadata": {
    "application/vnd.databricks.v1+cell": {
     "cellMetadata": {},
     "inputWidgets": {},
     "nuid": "673dc83e-9c92-440f-a3db-e5494c27f67e",
     "showTitle": false,
     "title": ""
    }
   },
   "outputs": [],
   "source": [
    "data.replace('?','',inplace=True)"
   ]
  },
  {
   "cell_type": "code",
   "execution_count": 0,
   "metadata": {
    "application/vnd.databricks.v1+cell": {
     "cellMetadata": {},
     "inputWidgets": {},
     "nuid": "30e8e07e-40f9-46a5-ab49-1320d9455faa",
     "showTitle": false,
     "title": ""
    }
   },
   "outputs": [],
   "source": [
    "data"
   ]
  },
  {
   "cell_type": "code",
   "execution_count": 0,
   "metadata": {
    "application/vnd.databricks.v1+cell": {
     "cellMetadata": {},
     "inputWidgets": {},
     "nuid": "460756d6-d342-4bda-afe9-1564be478e5a",
     "showTitle": false,
     "title": ""
    }
   },
   "outputs": [],
   "source": [
    "data['diag_1'] = data['diag_1'].map(lambda x: x.lstrip('V'))\n",
    "data['diag_2'] = data['diag_2'].map(lambda x: x.lstrip('V'))\n",
    "data['diag_3'] = data['diag_3'].map(lambda x: x.lstrip('V'))\n",
    "data['diag_1'] = data['diag_1'].map(lambda x: x.lstrip('E'))\n",
    "data['diag_2'] = data['diag_2'].map(lambda x: x.lstrip('E'))\n",
    "data['diag_3'] = data['diag_3'].map(lambda x: x.lstrip('E'))\n",
    "data['diag_1'] = pd.to_numeric(data['diag_1'])\n",
    "data['diag_2'] = pd.to_numeric(data['diag_2'])\n",
    "data['diag_3'] = pd.to_numeric(data['diag_3'])"
   ]
  },
  {
   "cell_type": "code",
   "execution_count": 0,
   "metadata": {
    "application/vnd.databricks.v1+cell": {
     "cellMetadata": {},
     "inputWidgets": {},
     "nuid": "1b61ec5a-d297-4d6a-9fb7-0353087ed883",
     "showTitle": false,
     "title": ""
    }
   },
   "outputs": [],
   "source": [
    "# data['race'].fillna('NA',inplace=True)\n",
    "# data['marital'].fillna('NA',inplace=True)\n",
    "# data['inc'].fillna('NA',inplace=True)\n",
    "# data['smoke'].fillna('NA',inplace=True)\n",
    "# data['time'].fillna('NA',inplace=True)\n",
    "# data['ed'].fillna('NA',inplace=True)\n",
    "# data['ded'].fillna('NA',inplace=True)\n",
    "# data['drace'].fillna('NA',inplace=True)"
   ]
  },
  {
   "cell_type": "code",
   "execution_count": 0,
   "metadata": {
    "application/vnd.databricks.v1+cell": {
     "cellMetadata": {},
     "inputWidgets": {},
     "nuid": "4c459cff-8f28-4eba-adaf-cfe2f65f5399",
     "showTitle": false,
     "title": ""
    }
   },
   "outputs": [],
   "source": [
    "X = data.drop(['readmitted'], axis=1)\n",
    "y = data.readmitted"
   ]
  },
  {
   "cell_type": "code",
   "execution_count": 0,
   "metadata": {
    "application/vnd.databricks.v1+cell": {
     "cellMetadata": {},
     "inputWidgets": {},
     "nuid": "e16eee0c-b105-4fa9-90d8-9e6a25b0367a",
     "showTitle": false,
     "title": ""
    }
   },
   "outputs": [],
   "source": [
    "X=X.fillna(0)"
   ]
  },
  {
   "cell_type": "code",
   "execution_count": 0,
   "metadata": {
    "application/vnd.databricks.v1+cell": {
     "cellMetadata": {},
     "inputWidgets": {},
     "nuid": "13d1cd25-afa4-4afe-a758-74d73d78796e",
     "showTitle": false,
     "title": ""
    }
   },
   "outputs": [],
   "source": [
    "X.columns"
   ]
  },
  {
   "cell_type": "code",
   "execution_count": 0,
   "metadata": {
    "application/vnd.databricks.v1+cell": {
     "cellMetadata": {},
     "inputWidgets": {},
     "nuid": "b4322e80-9af7-4abf-82bf-9b9dae0cf569",
     "showTitle": false,
     "title": ""
    }
   },
   "outputs": [],
   "source": [
    "\n",
    "X_train, X_test, y_train, y_test = train_test_split(X, y, random_state=42)"
   ]
  },
  {
   "cell_type": "code",
   "execution_count": 0,
   "metadata": {
    "application/vnd.databricks.v1+cell": {
     "cellMetadata": {},
     "inputWidgets": {},
     "nuid": "d3f34253-d51f-4ba3-8498-055b4c0f15d2",
     "showTitle": false,
     "title": ""
    }
   },
   "outputs": [],
   "source": [
    "X_train.dtypes"
   ]
  },
  {
   "cell_type": "code",
   "execution_count": 0,
   "metadata": {
    "application/vnd.databricks.v1+cell": {
     "cellMetadata": {},
     "inputWidgets": {},
     "nuid": "868b8d69-f057-47f9-bd42-8bfa2d11e452",
     "showTitle": false,
     "title": ""
    }
   },
   "outputs": [],
   "source": [
    "clf = LazyClassifier(verbose=0,ignore_warnings=True)\n",
    "models, predictions = clf.fit(X_train, X_test, y_train, y_test)\n",
    "models"
   ]
  },
  {
   "cell_type": "code",
   "execution_count": 0,
   "metadata": {
    "application/vnd.databricks.v1+cell": {
     "cellMetadata": {},
     "inputWidgets": {},
     "nuid": "305a7f26-d130-4044-b3af-fda7982ae499",
     "showTitle": false,
     "title": ""
    }
   },
   "outputs": [],
   "source": [
    "y_test.value_counts()"
   ]
  },
  {
   "cell_type": "code",
   "execution_count": 0,
   "metadata": {
    "application/vnd.databricks.v1+cell": {
     "cellMetadata": {},
     "inputWidgets": {},
     "nuid": "5808f703-e2d4-4747-8a64-d146d9720919",
     "showTitle": false,
     "title": ""
    }
   },
   "outputs": [],
   "source": [
    "from sklearn.ensemble import RandomForestClassifier\n",
    "\n",
    "feature_names = [f'feature {i}' for i in range(X.shape[1])]\n",
    "forest = RandomForestClassifier(n_estimators=1000,random_state=42)\n",
    "forest.fit(X_train, y_train)\n",
    "y_pred = forest.predict(X_test)"
   ]
  },
  {
   "cell_type": "code",
   "execution_count": 0,
   "metadata": {
    "application/vnd.databricks.v1+cell": {
     "cellMetadata": {},
     "inputWidgets": {},
     "nuid": "a43ee421-f6ef-430e-b456-46d1b3812834",
     "showTitle": false,
     "title": ""
    }
   },
   "outputs": [],
   "source": [
    "y_pred"
   ]
  },
  {
   "cell_type": "code",
   "execution_count": 0,
   "metadata": {
    "application/vnd.databricks.v1+cell": {
     "cellMetadata": {},
     "inputWidgets": {},
     "nuid": "ba6ffc07-5607-42a7-883f-f668f7cdfebc",
     "showTitle": false,
     "title": ""
    }
   },
   "outputs": [],
   "source": [
    "y_test"
   ]
  },
  {
   "cell_type": "code",
   "execution_count": 0,
   "metadata": {
    "application/vnd.databricks.v1+cell": {
     "cellMetadata": {},
     "inputWidgets": {},
     "nuid": "f54acecc-c153-4eda-8d06-0c5b0874ae3f",
     "showTitle": false,
     "title": ""
    }
   },
   "outputs": [],
   "source": [
    "from sklearn.metrics import precision_score\n",
    "from sklearn.metrics import recall_score\n",
    "\n",
    "precision = precision_score(y_test, y_pred,average='micro')\n",
    "print('Precision: %f' % precision)\n",
    "# recall: tp / (tp + fn)\n",
    "recall = recall_score(y_test, y_pred,average='micro')\n",
    "print('Recall: %f' % recall)"
   ]
  },
  {
   "cell_type": "code",
   "execution_count": 0,
   "metadata": {
    "application/vnd.databricks.v1+cell": {
     "cellMetadata": {},
     "inputWidgets": {},
     "nuid": "9dcfb598-9e2e-407b-9107-4dd9c26e2917",
     "showTitle": false,
     "title": ""
    }
   },
   "outputs": [],
   "source": []
  },
  {
   "cell_type": "code",
   "execution_count": 0,
   "metadata": {
    "application/vnd.databricks.v1+cell": {
     "cellMetadata": {},
     "inputWidgets": {},
     "nuid": "f64d03ad-4ec6-4d2d-9c85-ca80a71fa9d5",
     "showTitle": false,
     "title": ""
    }
   },
   "outputs": [],
   "source": [
    "df=pd.DataFrame({'Actual':y_test, 'Predicted':y_pred})"
   ]
  },
  {
   "cell_type": "code",
   "execution_count": 0,
   "metadata": {
    "application/vnd.databricks.v1+cell": {
     "cellMetadata": {},
     "inputWidgets": {},
     "nuid": "6af93ff0-c346-4770-a452-a5d440844a9d",
     "showTitle": false,
     "title": ""
    }
   },
   "outputs": [],
   "source": [
    "importances = forest.feature_importances_\n",
    "std = np.std([\n",
    "    tree.feature_importances_ for tree in forest.estimators_], axis=0)"
   ]
  },
  {
   "cell_type": "code",
   "execution_count": 0,
   "metadata": {
    "application/vnd.databricks.v1+cell": {
     "cellMetadata": {},
     "inputWidgets": {},
     "nuid": "d1a19bf3-5019-4185-b800-dbc4c79d5048",
     "showTitle": false,
     "title": ""
    }
   },
   "outputs": [],
   "source": [
    "importances = pd.DataFrame(data={\n",
    "    'Attribute': X_train.columns,\n",
    "    'Importance': forest.feature_importances_\n",
    "})"
   ]
  },
  {
   "cell_type": "code",
   "execution_count": 0,
   "metadata": {
    "application/vnd.databricks.v1+cell": {
     "cellMetadata": {},
     "inputWidgets": {},
     "nuid": "f081aac8-ced1-4924-82e8-3b240006b216",
     "showTitle": false,
     "title": ""
    }
   },
   "outputs": [],
   "source": [
    "importances = importances.sort_values(by='Importance', ascending=False)"
   ]
  },
  {
   "cell_type": "code",
   "execution_count": 0,
   "metadata": {
    "application/vnd.databricks.v1+cell": {
     "cellMetadata": {},
     "inputWidgets": {},
     "nuid": "59ec69df-bd69-41e5-9f28-78e9001412c4",
     "showTitle": false,
     "title": ""
    }
   },
   "outputs": [],
   "source": [
    "plt.bar(x=importances['Attribute'], height=importances['Importance'], color='#087E8B')\n",
    "plt.title('Feature importances obtained from coefficients', size=20)\n",
    "plt.xticks(rotation='vertical')\n",
    "plt.show()"
   ]
  },
  {
   "cell_type": "code",
   "execution_count": 0,
   "metadata": {
    "application/vnd.databricks.v1+cell": {
     "cellMetadata": {},
     "inputWidgets": {},
     "nuid": "5f9bd4a7-cc5d-43c1-a2a0-8d58af844519",
     "showTitle": false,
     "title": ""
    }
   },
   "outputs": [],
   "source": [
    "importances"
   ]
  },
  {
   "cell_type": "code",
   "execution_count": 0,
   "metadata": {
    "application/vnd.databricks.v1+cell": {
     "cellMetadata": {},
     "inputWidgets": {},
     "nuid": "2a9bfc44-7240-4e67-827a-1d507c5e7980",
     "showTitle": false,
     "title": ""
    }
   },
   "outputs": [],
   "source": []
  }
 ],
 "metadata": {
  "application/vnd.databricks.v1+notebook": {
   "dashboards": [],
   "language": "python",
   "notebookMetadata": {},
   "notebookName": "AIC_ME_TEST",
   "widgets": {}
  },
  "kernelspec": {
   "display_name": "Python 3",
   "language": "python",
   "name": "python3"
  },
  "language_info": {
   "codemirror_mode": {
    "name": "ipython",
    "version": 3
   },
   "file_extension": ".py",
   "mimetype": "text/x-python",
   "name": "python",
   "nbconvert_exporter": "python",
   "pygments_lexer": "ipython3",
   "version": "3.7.3"
  }
 },
 "nbformat": 4,
 "nbformat_minor": 0
}
